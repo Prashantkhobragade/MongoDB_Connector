{
 "cells": [
  {
   "cell_type": "code",
   "execution_count": 11,
   "metadata": {},
   "outputs": [],
   "source": [
    "from pymongo.mongo_client import MongoClient\n",
    "\n",
    "uri = \"mongodb+srv://prashantkhobragade011:@cluster0.f5xmim4.mongodb.net/?retryWrites=true&w=majority\"\n",
    "# Create a new client and connect to the server\n",
    "client = MongoClient(uri)"
   ]
  },
  {
   "cell_type": "code",
   "execution_count": 12,
   "metadata": {},
   "outputs": [],
   "source": [
    "database = client[\"MongoDB_practice\"]"
   ]
  },
  {
   "cell_type": "code",
   "execution_count": 13,
   "metadata": {},
   "outputs": [],
   "source": [
    "collection = database[\"collection_1\"]"
   ]
  },
  {
   "cell_type": "code",
   "execution_count": 14,
   "metadata": {},
   "outputs": [],
   "source": [
    "data = {\n",
    "    \"Name\": \"Prashant\",\n",
    "    \"Age\": 27,\n",
    "    \"Education\": \"BE\"\n",
    "}"
   ]
  },
  {
   "cell_type": "code",
   "execution_count": 15,
   "metadata": {},
   "outputs": [
    {
     "data": {
      "text/plain": [
       "InsertOneResult(ObjectId('6593dc359fdcd6f5e656c6fe'), acknowledged=True)"
      ]
     },
     "execution_count": 15,
     "metadata": {},
     "output_type": "execute_result"
    }
   ],
   "source": [
    "collection.insert_one(data)"
   ]
  },
  {
   "cell_type": "code",
   "execution_count": 17,
   "metadata": {},
   "outputs": [],
   "source": [
    "all_record = collection.find()"
   ]
  },
  {
   "cell_type": "code",
   "execution_count": 18,
   "metadata": {},
   "outputs": [
    {
     "name": "stdout",
     "output_type": "stream",
     "text": [
      "{'_id': ObjectId('6593dc359fdcd6f5e656c6fe'), 'Name': 'Prashant', 'Age': 27, 'Education': 'BE'}\n"
     ]
    }
   ],
   "source": [
    "for record in all_record:\n",
    "    print(record)"
   ]
  },
  {
   "cell_type": "code",
   "execution_count": 45,
   "metadata": {},
   "outputs": [],
   "source": [
    "import pandas as pd\n",
    "import json\n",
    "\n",
    "class mongodb_operation:\n",
    "    \n",
    "    def __init__(self, client_url:str, database_name:str, collection_name:str=None):\n",
    "        self.client_url = client_url\n",
    "        self.database_name = database_name\n",
    "        self.collection_name = collection_name\n",
    "        \n",
    "    def create_client(self):\n",
    "        client = MongoClient(self.client_url)\n",
    "        return client\n",
    "        \n",
    "    def create_database(self):\n",
    "        client = self.create_client()\n",
    "        database = client[self.database_name]\n",
    "        return database\n",
    "    \n",
    "    def create_collection(self, collection=None):\n",
    "        database = self.create_database()\n",
    "        collection = database[collection]\n",
    "        return collection\n",
    "        \n",
    "    \n",
    "    def insert_record(self, record: dict, collection_name:str):\n",
    "        if type(record) == list:\n",
    "            for data in record:\n",
    "                if type(data) != dict:\n",
    "                    raise TypeError(\"record must be in the dict\")\n",
    "            collection = self.create_collection(collection_name)\n",
    "            collection.insert_many(record)\n",
    "        \n",
    "        elif type(record)==dict:\n",
    "            collection = self.create_collection(collection_name)\n",
    "            collection.insert_one(record)\n",
    "            \n",
    "        \n",
    "    \n",
    "    def bulk_insert(self, datafile:str, collection_name:str=None):\n",
    "        self.path = datafile\n",
    "        \n",
    "        if self.path.endswith('.csv'):\n",
    "            data = pd.read_csv(self.path, encoding = 'utf-8')\n",
    "        elif self.path.endswith('.xlsx'):\n",
    "            data = pd.read_excel(self.path, encoding = 'utf-8')\n",
    "            \n",
    "        datajson = json.loads(data.to_json(orient='record'))\n",
    "        collection = self.create_collection()\n",
    "        collection.insert_many(datajson)\n",
    "        "
   ]
  },
  {
   "cell_type": "code",
   "execution_count": 46,
   "metadata": {},
   "outputs": [],
   "source": [
    "#call the mongodb connection\n",
    "client_url = \"mongodb+srv://prashantkhobragade011:@cluster0.f5xmim4.mongodb.net/?retryWrites=true&w=majority\"\n",
    "database = \"practice2\"\n",
    "collection_name = \"test\""
   ]
  },
  {
   "cell_type": "code",
   "execution_count": 47,
   "metadata": {},
   "outputs": [],
   "source": [
    "mongo = mongodb_operation(client_url, database, collection_name)"
   ]
  },
  {
   "cell_type": "code",
   "execution_count": 48,
   "metadata": {},
   "outputs": [],
   "source": [
    "mongo.insert_record({\n",
    "    \"name\": \"Prashant Khobragade\",\n",
    "    \"designation\": \"Data Scientist\",\n",
    "    \"Education\": \"BE\"\n",
    "},collection_name)"
   ]
  },
  {
   "cell_type": "code",
   "execution_count": null,
   "metadata": {},
   "outputs": [],
   "source": []
  }
 ],
 "metadata": {
  "kernelspec": {
   "display_name": "Python 3",
   "language": "python",
   "name": "python3"
  },
  "language_info": {
   "codemirror_mode": {
    "name": "ipython",
    "version": 3
   },
   "file_extension": ".py",
   "mimetype": "text/x-python",
   "name": "python",
   "nbconvert_exporter": "python",
   "pygments_lexer": "ipython3",
   "version": "3.9.0"
  }
 },
 "nbformat": 4,
 "nbformat_minor": 2
}
